{
  "nbformat": 4,
  "nbformat_minor": 0,
  "metadata": {
    "colab": {
      "name": "1301180033_1301184064_Vharrel Devana I_Syamsul Rizal.ipynb",
      "provenance": [],
      "collapsed_sections": [],
      "toc_visible": true
    },
    "kernelspec": {
      "name": "python3",
      "display_name": "Python 3"
    },
    "language_info": {
      "name": "python"
    }
  },
  "cells": [
    {
      "cell_type": "markdown",
      "metadata": {
        "id": "54ercm9_vZss"
      },
      "source": [
        "**Tugas Besar Machine Learning**\n",
        "\n",
        "***Classification***\n",
        "\n",
        "Vharrel Devana I - 130118xxxx\n",
        "\n",
        "Syamsul Rizal - 130118xxxx\n",
        "\n",
        "IF-42-01"
      ]
    },
    {
      "cell_type": "markdown",
      "metadata": {
        "id": "y9lizrzpxtK7"
      },
      "source": [
        "#Library"
      ]
    },
    {
      "cell_type": "code",
      "metadata": {
        "id": "krD07JcJ4W9n"
      },
      "source": [
        "#library yang digunakan untuk preprocessing\n",
        "import pandas as pd\n",
        "import numpy as np \n",
        "import matplotlib as mp\n",
        "import matplotlib.pyplot as plt\n",
        "import seaborn as sns\n",
        "from sklearn.preprocessing import MinMaxScaler\n",
        "import warnings\n",
        "warnings.filterwarnings('ignore')"
      ],
      "execution_count": null,
      "outputs": []
    },
    {
      "cell_type": "markdown",
      "metadata": {
        "id": "OBzA_wO955-M"
      },
      "source": [
        "# Import Data"
      ]
    },
    {
      "cell_type": "code",
      "metadata": {
        "id": "wbgestew4f7V"
      },
      "source": [
        "#import data dari github\n",
        "train = 'https://raw.githubusercontent.com/rizalsyamsul/Malin/main/salju_train.csv'\n",
        "test = 'https://raw.githubusercontent.com/rizalsyamsul/Malin/main/salju_test.csv'"
      ],
      "execution_count": null,
      "outputs": []
    },
    {
      "cell_type": "markdown",
      "metadata": {
        "id": "n1pBYxoT5_QO"
      },
      "source": [
        "# Eksplorasi dan Persiapan Data"
      ]
    },
    {
      "cell_type": "markdown",
      "metadata": {
        "id": "heTDbT900hV6"
      },
      "source": [
        "## Eksplorasi Data"
      ]
    },
    {
      "cell_type": "markdown",
      "metadata": {
        "id": "b2Wb4-ceUAsH"
      },
      "source": [
        "Untuk data Salju ini kami menggunakan 6 kolom data yang dianggap cukup penting untuk mengukur apakah besok bersalju atau tidak beserta 1 kolom label yang dipakai untuk klasifikasi"
      ]
    },
    {
      "cell_type": "code",
      "metadata": {
        "id": "03FKZt7SQj0g",
        "colab": {
          "base_uri": "https://localhost:8080/",
          "height": 204
        },
        "outputId": "1b7ae61a-3627-494a-9c94-f6953632d803"
      },
      "source": [
        "#read csv dari data train yang telah dan mengambil 6 kolom data beserta 1 label\n",
        "df_train = pd.read_csv(train)\n",
        "df_train = df_train[['SuhuMin','SuhuMax','Hujan','SinarMatahari','Awan3pm','Suhu3pm','BersaljuBesok']]\n",
        "df_train.head()"
      ],
      "execution_count": null,
      "outputs": [
        {
          "output_type": "execute_result",
          "data": {
            "text/html": [
              "<div>\n",
              "<style scoped>\n",
              "    .dataframe tbody tr th:only-of-type {\n",
              "        vertical-align: middle;\n",
              "    }\n",
              "\n",
              "    .dataframe tbody tr th {\n",
              "        vertical-align: top;\n",
              "    }\n",
              "\n",
              "    .dataframe thead th {\n",
              "        text-align: right;\n",
              "    }\n",
              "</style>\n",
              "<table border=\"1\" class=\"dataframe\">\n",
              "  <thead>\n",
              "    <tr style=\"text-align: right;\">\n",
              "      <th></th>\n",
              "      <th>SuhuMin</th>\n",
              "      <th>SuhuMax</th>\n",
              "      <th>Hujan</th>\n",
              "      <th>SinarMatahari</th>\n",
              "      <th>Awan3pm</th>\n",
              "      <th>Suhu3pm</th>\n",
              "      <th>BersaljuBesok</th>\n",
              "    </tr>\n",
              "  </thead>\n",
              "  <tbody>\n",
              "    <tr>\n",
              "      <th>0</th>\n",
              "      <td>10.4</td>\n",
              "      <td>15.5</td>\n",
              "      <td>4.8</td>\n",
              "      <td>NaN</td>\n",
              "      <td>NaN</td>\n",
              "      <td>15.0</td>\n",
              "      <td>Tidak</td>\n",
              "    </tr>\n",
              "    <tr>\n",
              "      <th>1</th>\n",
              "      <td>9.0</td>\n",
              "      <td>17.0</td>\n",
              "      <td>8.0</td>\n",
              "      <td>7.4</td>\n",
              "      <td>5.0</td>\n",
              "      <td>15.5</td>\n",
              "      <td>Ya</td>\n",
              "    </tr>\n",
              "    <tr>\n",
              "      <th>2</th>\n",
              "      <td>18.2</td>\n",
              "      <td>32.0</td>\n",
              "      <td>0.0</td>\n",
              "      <td>NaN</td>\n",
              "      <td>NaN</td>\n",
              "      <td>29.6</td>\n",
              "      <td>Tidak</td>\n",
              "    </tr>\n",
              "    <tr>\n",
              "      <th>3</th>\n",
              "      <td>7.3</td>\n",
              "      <td>24.5</td>\n",
              "      <td>0.0</td>\n",
              "      <td>10.4</td>\n",
              "      <td>7.0</td>\n",
              "      <td>23.2</td>\n",
              "      <td>Tidak</td>\n",
              "    </tr>\n",
              "    <tr>\n",
              "      <th>4</th>\n",
              "      <td>5.9</td>\n",
              "      <td>20.3</td>\n",
              "      <td>0.0</td>\n",
              "      <td>12.6</td>\n",
              "      <td>6.0</td>\n",
              "      <td>18.1</td>\n",
              "      <td>Tidak</td>\n",
              "    </tr>\n",
              "  </tbody>\n",
              "</table>\n",
              "</div>"
            ],
            "text/plain": [
              "   SuhuMin  SuhuMax  Hujan  SinarMatahari  Awan3pm  Suhu3pm BersaljuBesok\n",
              "0     10.4     15.5    4.8            NaN      NaN     15.0         Tidak\n",
              "1      9.0     17.0    8.0            7.4      5.0     15.5            Ya\n",
              "2     18.2     32.0    0.0            NaN      NaN     29.6         Tidak\n",
              "3      7.3     24.5    0.0           10.4      7.0     23.2         Tidak\n",
              "4      5.9     20.3    0.0           12.6      6.0     18.1         Tidak"
            ]
          },
          "metadata": {
            "tags": []
          },
          "execution_count": 14
        }
      ]
    },
    {
      "cell_type": "code",
      "metadata": {
        "id": "vanIL_SifFw4"
      },
      "source": [
        "#membuat data bersaljubesok menjadi numerik dengan ketentuan tidak :0 dan ya:1\n",
        "df_train['BersaljuBesok'] = df_train['BersaljuBesok'].replace({'Tidak': 0, 'Ya': 1})"
      ],
      "execution_count": null,
      "outputs": []
    },
    {
      "cell_type": "code",
      "metadata": {
        "colab": {
          "base_uri": "https://localhost:8080/",
          "height": 204
        },
        "id": "XkI3ecJfyn36",
        "outputId": "14fd7f2d-c6cf-4c4d-a800-6d2d0c8d6b49"
      },
      "source": [
        "df_train.head()"
      ],
      "execution_count": null,
      "outputs": [
        {
          "output_type": "execute_result",
          "data": {
            "text/html": [
              "<div>\n",
              "<style scoped>\n",
              "    .dataframe tbody tr th:only-of-type {\n",
              "        vertical-align: middle;\n",
              "    }\n",
              "\n",
              "    .dataframe tbody tr th {\n",
              "        vertical-align: top;\n",
              "    }\n",
              "\n",
              "    .dataframe thead th {\n",
              "        text-align: right;\n",
              "    }\n",
              "</style>\n",
              "<table border=\"1\" class=\"dataframe\">\n",
              "  <thead>\n",
              "    <tr style=\"text-align: right;\">\n",
              "      <th></th>\n",
              "      <th>SuhuMin</th>\n",
              "      <th>SuhuMax</th>\n",
              "      <th>Hujan</th>\n",
              "      <th>SinarMatahari</th>\n",
              "      <th>Awan3pm</th>\n",
              "      <th>Suhu3pm</th>\n",
              "      <th>BersaljuBesok</th>\n",
              "    </tr>\n",
              "  </thead>\n",
              "  <tbody>\n",
              "    <tr>\n",
              "      <th>0</th>\n",
              "      <td>10.4</td>\n",
              "      <td>15.5</td>\n",
              "      <td>4.8</td>\n",
              "      <td>NaN</td>\n",
              "      <td>NaN</td>\n",
              "      <td>15.0</td>\n",
              "      <td>0.0</td>\n",
              "    </tr>\n",
              "    <tr>\n",
              "      <th>1</th>\n",
              "      <td>9.0</td>\n",
              "      <td>17.0</td>\n",
              "      <td>8.0</td>\n",
              "      <td>7.4</td>\n",
              "      <td>5.0</td>\n",
              "      <td>15.5</td>\n",
              "      <td>1.0</td>\n",
              "    </tr>\n",
              "    <tr>\n",
              "      <th>2</th>\n",
              "      <td>18.2</td>\n",
              "      <td>32.0</td>\n",
              "      <td>0.0</td>\n",
              "      <td>NaN</td>\n",
              "      <td>NaN</td>\n",
              "      <td>29.6</td>\n",
              "      <td>0.0</td>\n",
              "    </tr>\n",
              "    <tr>\n",
              "      <th>3</th>\n",
              "      <td>7.3</td>\n",
              "      <td>24.5</td>\n",
              "      <td>0.0</td>\n",
              "      <td>10.4</td>\n",
              "      <td>7.0</td>\n",
              "      <td>23.2</td>\n",
              "      <td>0.0</td>\n",
              "    </tr>\n",
              "    <tr>\n",
              "      <th>4</th>\n",
              "      <td>5.9</td>\n",
              "      <td>20.3</td>\n",
              "      <td>0.0</td>\n",
              "      <td>12.6</td>\n",
              "      <td>6.0</td>\n",
              "      <td>18.1</td>\n",
              "      <td>0.0</td>\n",
              "    </tr>\n",
              "  </tbody>\n",
              "</table>\n",
              "</div>"
            ],
            "text/plain": [
              "   SuhuMin  SuhuMax  Hujan  SinarMatahari  Awan3pm  Suhu3pm  BersaljuBesok\n",
              "0     10.4     15.5    4.8            NaN      NaN     15.0            0.0\n",
              "1      9.0     17.0    8.0            7.4      5.0     15.5            1.0\n",
              "2     18.2     32.0    0.0            NaN      NaN     29.6            0.0\n",
              "3      7.3     24.5    0.0           10.4      7.0     23.2            0.0\n",
              "4      5.9     20.3    0.0           12.6      6.0     18.1            0.0"
            ]
          },
          "metadata": {
            "tags": []
          },
          "execution_count": 16
        }
      ]
    },
    {
      "cell_type": "code",
      "metadata": {
        "colab": {
          "base_uri": "https://localhost:8080/",
          "height": 204
        },
        "id": "9SXdqg9D0YwM",
        "outputId": "b68d5b81-2cd4-480d-ce34-13591a911492"
      },
      "source": [
        "#read csv dari data test yang telah dan mengambil 6 kolom data beserta 1 label\n",
        "df_test = pd.read_csv(test)\n",
        "df_test = df_test[['SuhuMin','SuhuMax','Hujan','SinarMatahari','Awan3pm','Suhu3pm','BersaljuBesok']]\n",
        "df_test.head()"
      ],
      "execution_count": null,
      "outputs": [
        {
          "output_type": "execute_result",
          "data": {
            "text/html": [
              "<div>\n",
              "<style scoped>\n",
              "    .dataframe tbody tr th:only-of-type {\n",
              "        vertical-align: middle;\n",
              "    }\n",
              "\n",
              "    .dataframe tbody tr th {\n",
              "        vertical-align: top;\n",
              "    }\n",
              "\n",
              "    .dataframe thead th {\n",
              "        text-align: right;\n",
              "    }\n",
              "</style>\n",
              "<table border=\"1\" class=\"dataframe\">\n",
              "  <thead>\n",
              "    <tr style=\"text-align: right;\">\n",
              "      <th></th>\n",
              "      <th>SuhuMin</th>\n",
              "      <th>SuhuMax</th>\n",
              "      <th>Hujan</th>\n",
              "      <th>SinarMatahari</th>\n",
              "      <th>Awan3pm</th>\n",
              "      <th>Suhu3pm</th>\n",
              "      <th>BersaljuBesok</th>\n",
              "    </tr>\n",
              "  </thead>\n",
              "  <tbody>\n",
              "    <tr>\n",
              "      <th>0</th>\n",
              "      <td>11.0</td>\n",
              "      <td>27.5</td>\n",
              "      <td>0.0</td>\n",
              "      <td>6.4</td>\n",
              "      <td>7.0</td>\n",
              "      <td>23.6</td>\n",
              "      <td>No</td>\n",
              "    </tr>\n",
              "    <tr>\n",
              "      <th>1</th>\n",
              "      <td>10.0</td>\n",
              "      <td>19.9</td>\n",
              "      <td>0.2</td>\n",
              "      <td>NaN</td>\n",
              "      <td>1.0</td>\n",
              "      <td>18.9</td>\n",
              "      <td>Yes</td>\n",
              "    </tr>\n",
              "    <tr>\n",
              "      <th>2</th>\n",
              "      <td>9.2</td>\n",
              "      <td>27.2</td>\n",
              "      <td>0.0</td>\n",
              "      <td>10.4</td>\n",
              "      <td>1.0</td>\n",
              "      <td>26.3</td>\n",
              "      <td>No</td>\n",
              "    </tr>\n",
              "    <tr>\n",
              "      <th>3</th>\n",
              "      <td>17.7</td>\n",
              "      <td>27.0</td>\n",
              "      <td>0.0</td>\n",
              "      <td>6.7</td>\n",
              "      <td>6.0</td>\n",
              "      <td>26.4</td>\n",
              "      <td>No</td>\n",
              "    </tr>\n",
              "    <tr>\n",
              "      <th>4</th>\n",
              "      <td>2.3</td>\n",
              "      <td>7.9</td>\n",
              "      <td>88.0</td>\n",
              "      <td>NaN</td>\n",
              "      <td>NaN</td>\n",
              "      <td>6.0</td>\n",
              "      <td>No</td>\n",
              "    </tr>\n",
              "  </tbody>\n",
              "</table>\n",
              "</div>"
            ],
            "text/plain": [
              "   SuhuMin  SuhuMax  Hujan  SinarMatahari  Awan3pm  Suhu3pm BersaljuBesok\n",
              "0     11.0     27.5    0.0            6.4      7.0     23.6            No\n",
              "1     10.0     19.9    0.2            NaN      1.0     18.9           Yes\n",
              "2      9.2     27.2    0.0           10.4      1.0     26.3            No\n",
              "3     17.7     27.0    0.0            6.7      6.0     26.4            No\n",
              "4      2.3      7.9   88.0            NaN      NaN      6.0            No"
            ]
          },
          "metadata": {
            "tags": []
          },
          "execution_count": 17
        }
      ]
    },
    {
      "cell_type": "code",
      "metadata": {
        "id": "GkJGwATg0q_J"
      },
      "source": [
        "#membuat data bersaljubesok menjadi numerik dengan ketentuan tidak :0 dan ya:1\n",
        "df_test['BersaljuBesok'] = df_test['BersaljuBesok'].replace({'No': 0, 'Yes': 1})"
      ],
      "execution_count": null,
      "outputs": []
    },
    {
      "cell_type": "code",
      "metadata": {
        "colab": {
          "base_uri": "https://localhost:8080/",
          "height": 204
        },
        "id": "8T7JvJ4M0eQC",
        "outputId": "79a63a4a-f39d-47d5-d4ba-a911784ffe97"
      },
      "source": [
        "df_test.head()"
      ],
      "execution_count": null,
      "outputs": [
        {
          "output_type": "execute_result",
          "data": {
            "text/html": [
              "<div>\n",
              "<style scoped>\n",
              "    .dataframe tbody tr th:only-of-type {\n",
              "        vertical-align: middle;\n",
              "    }\n",
              "\n",
              "    .dataframe tbody tr th {\n",
              "        vertical-align: top;\n",
              "    }\n",
              "\n",
              "    .dataframe thead th {\n",
              "        text-align: right;\n",
              "    }\n",
              "</style>\n",
              "<table border=\"1\" class=\"dataframe\">\n",
              "  <thead>\n",
              "    <tr style=\"text-align: right;\">\n",
              "      <th></th>\n",
              "      <th>SuhuMin</th>\n",
              "      <th>SuhuMax</th>\n",
              "      <th>Hujan</th>\n",
              "      <th>SinarMatahari</th>\n",
              "      <th>Awan3pm</th>\n",
              "      <th>Suhu3pm</th>\n",
              "      <th>BersaljuBesok</th>\n",
              "    </tr>\n",
              "  </thead>\n",
              "  <tbody>\n",
              "    <tr>\n",
              "      <th>0</th>\n",
              "      <td>11.0</td>\n",
              "      <td>27.5</td>\n",
              "      <td>0.0</td>\n",
              "      <td>6.4</td>\n",
              "      <td>7.0</td>\n",
              "      <td>23.6</td>\n",
              "      <td>0.0</td>\n",
              "    </tr>\n",
              "    <tr>\n",
              "      <th>1</th>\n",
              "      <td>10.0</td>\n",
              "      <td>19.9</td>\n",
              "      <td>0.2</td>\n",
              "      <td>NaN</td>\n",
              "      <td>1.0</td>\n",
              "      <td>18.9</td>\n",
              "      <td>1.0</td>\n",
              "    </tr>\n",
              "    <tr>\n",
              "      <th>2</th>\n",
              "      <td>9.2</td>\n",
              "      <td>27.2</td>\n",
              "      <td>0.0</td>\n",
              "      <td>10.4</td>\n",
              "      <td>1.0</td>\n",
              "      <td>26.3</td>\n",
              "      <td>0.0</td>\n",
              "    </tr>\n",
              "    <tr>\n",
              "      <th>3</th>\n",
              "      <td>17.7</td>\n",
              "      <td>27.0</td>\n",
              "      <td>0.0</td>\n",
              "      <td>6.7</td>\n",
              "      <td>6.0</td>\n",
              "      <td>26.4</td>\n",
              "      <td>0.0</td>\n",
              "    </tr>\n",
              "    <tr>\n",
              "      <th>4</th>\n",
              "      <td>2.3</td>\n",
              "      <td>7.9</td>\n",
              "      <td>88.0</td>\n",
              "      <td>NaN</td>\n",
              "      <td>NaN</td>\n",
              "      <td>6.0</td>\n",
              "      <td>0.0</td>\n",
              "    </tr>\n",
              "  </tbody>\n",
              "</table>\n",
              "</div>"
            ],
            "text/plain": [
              "   SuhuMin  SuhuMax  Hujan  SinarMatahari  Awan3pm  Suhu3pm  BersaljuBesok\n",
              "0     11.0     27.5    0.0            6.4      7.0     23.6            0.0\n",
              "1     10.0     19.9    0.2            NaN      1.0     18.9            1.0\n",
              "2      9.2     27.2    0.0           10.4      1.0     26.3            0.0\n",
              "3     17.7     27.0    0.0            6.7      6.0     26.4            0.0\n",
              "4      2.3      7.9   88.0            NaN      NaN      6.0            0.0"
            ]
          },
          "metadata": {
            "tags": []
          },
          "execution_count": 19
        }
      ]
    },
    {
      "cell_type": "markdown",
      "metadata": {
        "id": "bCeVN-HM0nBz"
      },
      "source": [
        "## Persiapan/Pre-Processing Data"
      ]
    },
    {
      "cell_type": "markdown",
      "metadata": {
        "id": "NC8zlqzXclQY"
      },
      "source": [
        "**Cleansing**\n",
        "> Menghapus nilai null dari dataset"
      ]
    },
    {
      "cell_type": "code",
      "metadata": {
        "id": "0POLA6CCUThZ",
        "colab": {
          "base_uri": "https://localhost:8080/"
        },
        "outputId": "c1b28b27-0004-404b-92fe-939678813e55"
      },
      "source": [
        "#mengecek data train apakah memiliki nilai null\n",
        "df_train.isnull().sum()"
      ],
      "execution_count": null,
      "outputs": [
        {
          "output_type": "execute_result",
          "data": {
            "text/plain": [
              "SuhuMin           1122\n",
              "SuhuMax            929\n",
              "Hujan             2431\n",
              "SinarMatahari    52379\n",
              "Awan3pm          44471\n",
              "Suhu3pm           2698\n",
              "BersaljuBesok     2431\n",
              "dtype: int64"
            ]
          },
          "metadata": {
            "tags": []
          },
          "execution_count": 20
        }
      ]
    },
    {
      "cell_type": "code",
      "metadata": {
        "id": "0ScYUOxtYcmu",
        "colab": {
          "base_uri": "https://localhost:8080/"
        },
        "outputId": "b6c18554-a76b-4efb-cfe8-e09275a09a01"
      },
      "source": [
        "#mengecek data test apakah memiliki nilai null\n",
        "df_test.isnull().sum()"
      ],
      "execution_count": null,
      "outputs": [
        {
          "output_type": "execute_result",
          "data": {
            "text/plain": [
              "SuhuMin           165\n",
              "SuhuMax           165\n",
              "Hujan             387\n",
              "SinarMatahari    8718\n",
              "Awan3pm          7456\n",
              "Suhu3pm           442\n",
              "BersaljuBesok     419\n",
              "dtype: int64"
            ]
          },
          "metadata": {
            "tags": []
          },
          "execution_count": 21
        }
      ]
    },
    {
      "cell_type": "code",
      "metadata": {
        "id": "vY_b2jooxX3g"
      },
      "source": [
        "#drop nilai null dari kedua data train dan data test\n",
        "df_train.dropna(inplace=True)\n",
        "df_test.dropna(inplace=True)"
      ],
      "execution_count": null,
      "outputs": []
    },
    {
      "cell_type": "code",
      "metadata": {
        "colab": {
          "base_uri": "https://localhost:8080/"
        },
        "id": "II9urdB2xe0h",
        "outputId": "2eeadf53-542b-4bac-a0ab-bead09c265a9"
      },
      "source": [
        "#mengecek kembalu data train apakah masih memiliki nilai null\n",
        "df_train.isnull().sum()"
      ],
      "execution_count": null,
      "outputs": [
        {
          "output_type": "execute_result",
          "data": {
            "text/plain": [
              "SuhuMin          0\n",
              "SuhuMax          0\n",
              "Hujan            0\n",
              "SinarMatahari    0\n",
              "Awan3pm          0\n",
              "Suhu3pm          0\n",
              "BersaljuBesok    0\n",
              "dtype: int64"
            ]
          },
          "metadata": {
            "tags": []
          },
          "execution_count": 23
        }
      ]
    },
    {
      "cell_type": "code",
      "metadata": {
        "colab": {
          "base_uri": "https://localhost:8080/"
        },
        "id": "D_LrGL--2D9h",
        "outputId": "3480bd12-f753-49f6-cc04-4129a070639a"
      },
      "source": [
        "#mengecek kembalu data test apakah masih memiliki nilai null\n",
        "df_test.isnull().sum()"
      ],
      "execution_count": null,
      "outputs": [
        {
          "output_type": "execute_result",
          "data": {
            "text/plain": [
              "SuhuMin          0\n",
              "SuhuMax          0\n",
              "Hujan            0\n",
              "SinarMatahari    0\n",
              "Awan3pm          0\n",
              "Suhu3pm          0\n",
              "BersaljuBesok    0\n",
              "dtype: int64"
            ]
          },
          "metadata": {
            "tags": []
          },
          "execution_count": 24
        }
      ]
    },
    {
      "cell_type": "markdown",
      "metadata": {
        "id": "Iqx7mc0NdKOc"
      },
      "source": [
        "**Outlier**\n",
        "> Menghapus Outliers atau data yang tidak stabil pada seluruh kolom yang ada, ini bertujuan untuk membuat data lebih bersih dan stabil"
      ]
    },
    {
      "cell_type": "code",
      "metadata": {
        "id": "q1shHGI6dmSS",
        "colab": {
          "base_uri": "https://localhost:8080/",
          "height": 252
        },
        "outputId": "850f1998-9688-4f4c-f925-a856e549c075"
      },
      "source": [
        "#mengecek outliers data train menggunakan boxplot dari seaborn\n",
        "f, a = plt.subplots(1, 6)\n",
        "mp.rcParams['figure.dpi'] = 120\n",
        "\n",
        "sns.boxplot(y=df_train[\"SuhuMin\"], ax=a[0])\n",
        "sns.boxplot(y=df_train[\"SuhuMax\"], ax=a[1])\n",
        "sns.boxplot(y=df_train[\"Hujan\"], ax=a[2])\n",
        "sns.boxplot(y=df_train[\"SinarMatahari\"], ax=a[3])\n",
        "sns.boxplot(y=df_train[\"Awan3pm\"], ax=a[4])\n",
        "sns.boxplot(y=df_train[\"Suhu3pm\"], ax=a[5])\n",
        "\n",
        "plt.subplots_adjust(wspace=10)"
      ],
      "execution_count": null,
      "outputs": [
        {
          "output_type": "display_data",
          "data": {
            "image/png": "[encoded data removed]",
            "text/plain": [
              "<Figure size 432x288 with 6 Axes>"
            ]
          },
          "metadata": {
            "tags": [],
            "needs_background": "light"
          }
        }
      ]
    },
    {
      "cell_type": "code",
      "metadata": {
        "colab": {
          "base_uri": "https://localhost:8080/",
          "height": 415
        },
        "id": "jZZbNmIT464f",
        "outputId": "983713a1-59bc-478e-f184-8d160f2a9a9a"
      },
      "source": [
        "#mengecek outliers data test menggunakan boxplot dari seaborn\n",
        "f, a = plt.subplots(1, 6)\n",
        "mp.rcParams['figure.dpi'] = 120\n",
        "\n",
        "sns.boxplot(y=df_test[\"SuhuMin\"], ax=a[0])\n",
        "sns.boxplot(y=df_test[\"SuhuMax\"], ax=a[1])\n",
        "sns.boxplot(y=df_test[\"Hujan\"], ax=a[2])\n",
        "sns.boxplot(y=df_test[\"SinarMatahari\"], ax=a[3])\n",
        "sns.boxplot(y=df_test[\"Awan3pm\"], ax=a[4])\n",
        "sns.boxplot(y=df_test[\"Suhu3pm\"], ax=a[5])\n",
        "\n",
        "plt.subplots_adjust(wspace=10)"
      ],
      "execution_count": null,
      "outputs": [
        {
          "output_type": "display_data",
          "data": {
            "image/png": "[encoded data removed]",
            "text/plain": [
              "<Figure size 720x480 with 6 Axes>"
            ]
          },
          "metadata": {
            "tags": [],
            "needs_background": "light"
          }
        }
      ]
    },
    {
      "cell_type": "code",
      "metadata": {
        "id": "xzW7wDQadJc7"
      },
      "source": [
        "#fungsi untuk menghapus outlier\n",
        "def out(data, kolom):\n",
        "    atas = data[kolom].quantile(.75)\n",
        "    bawah = data[kolom].quantile(.25)\n",
        "    kuartil = atas-bawah\n",
        "\n",
        "    batasbawah = bawah - 1.5*kuartil\n",
        "    batasatas = atas + 1.5*kuartil\n",
        "    \n",
        "    res = data.loc[(data[kolom] > batasbawah) & (data[kolom] < batasatas)]\n",
        "\n",
        "    return res"
      ],
      "execution_count": null,
      "outputs": []
    },
    {
      "cell_type": "code",
      "metadata": {
        "id": "BlJm7v0Je5I9"
      },
      "source": [
        "#memanggil fungsi out dan dimasukan kembali kedalam data train\n",
        "df_train = out(df_train,'Hujan')\n",
        "df_train = out(df_train,'SinarMatahari')\n",
        "df_train = out(df_train,'SuhuMax')\n",
        "df_train = out(df_train,'Suhu3pm')\n",
        "df_train = out(df_train,'SuhuMin')\n",
        "df_train = out(df_train,'Awan3pm')"
      ],
      "execution_count": null,
      "outputs": []
    },
    {
      "cell_type": "code",
      "metadata": {
        "id": "mJau9smQ5JpP"
      },
      "source": [
        "#memanggil fungsi out dan dimasukan kembali kedalam data test\n",
        "df_test = out(df_test,'Hujan')\n",
        "df_test = out(df_test,'SinarMatahari')\n",
        "df_test = out(df_test,'SuhuMax')\n",
        "df_test = out(df_test,'Suhu3pm')\n",
        "df_test = out(df_test,'SuhuMin')\n",
        "df_test = out(df_test,'Awan3pm')"
      ],
      "execution_count": null,
      "outputs": []
    },
    {
      "cell_type": "code",
      "metadata": {
        "id": "wyX4p_yPfO_c",
        "colab": {
          "base_uri": "https://localhost:8080/",
          "height": 409
        },
        "outputId": "08d0b5e4-2491-41f9-f7f9-e29c2076f126"
      },
      "source": [
        "#mengecek kembali outliers data train menggunakan boxplot dari seaborn\n",
        "f, a = plt.subplots(1, 6)\n",
        "mp.rcParams['figure.dpi'] = 100\n",
        "\n",
        "sns.boxplot(y=df_train[\"SuhuMin\"], ax=a[0])\n",
        "sns.boxplot(y=df_train[\"SuhuMax\"], ax=a[1])\n",
        "sns.boxplot(y=df_train[\"Hujan\"], ax=a[2])\n",
        "sns.boxplot(y=df_train[\"SinarMatahari\"], ax=a[3])\n",
        "sns.boxplot(y=df_train[\"Awan3pm\"], ax=a[4])\n",
        "sns.boxplot(y=df_train[\"Suhu3pm\"], ax=a[5])\n",
        "\n",
        "plt.subplots_adjust(wspace=10)"
      ],
      "execution_count": null,
      "outputs": [
        {
          "output_type": "display_data",
          "data": {
            "image/png": "[encoded data removed]",
            "text/plain": [
              "<Figure size 720x480 with 6 Axes>"
            ]
          },
          "metadata": {
            "tags": [],
            "needs_background": "light"
          }
        }
      ]
    },
    {
      "cell_type": "code",
      "metadata": {
        "colab": {
          "base_uri": "https://localhost:8080/",
          "height": 347
        },
        "id": "8g1UcXA75Qyi",
        "outputId": "ee4abbfc-08a9-4234-feb5-6aa35887a28d"
      },
      "source": [
        "#mengecek kembali outliers data test menggunakan boxplot dari seaborn\n",
        "f, a = plt.subplots(1, 6)\n",
        "mp.rcParams['figure.dpi'] = 120\n",
        "\n",
        "sns.boxplot(y=df_test[\"SuhuMin\"], ax=a[0])\n",
        "sns.boxplot(y=df_test[\"SuhuMax\"], ax=a[1])\n",
        "sns.boxplot(y=df_test[\"Hujan\"], ax=a[2])\n",
        "sns.boxplot(y=df_test[\"SinarMatahari\"], ax=a[3])\n",
        "sns.boxplot(y=df_test[\"Awan3pm\"], ax=a[4])\n",
        "sns.boxplot(y=df_test[\"Suhu3pm\"], ax=a[5])\n",
        "\n",
        "plt.subplots_adjust(wspace=10)"
      ],
      "execution_count": null,
      "outputs": [
        {
          "output_type": "display_data",
          "data": {
            "image/png": "[encoded data removed]",
            "text/plain": [
              "<Figure size 600x400 with 6 Axes>"
            ]
          },
          "metadata": {
            "tags": [],
            "needs_background": "light"
          }
        }
      ]
    },
    {
      "cell_type": "markdown",
      "metadata": {
        "id": "ejh4TPRXBifF"
      },
      "source": [
        "**Reset Index**\n",
        "> Mereset index dari data train dan data test"
      ]
    },
    {
      "cell_type": "code",
      "metadata": {
        "colab": {
          "base_uri": "https://localhost:8080/",
          "height": 419
        },
        "id": "6pk1FImEo4U2",
        "outputId": "eb96068b-eb33-4dd1-c24f-4e193971c25e"
      },
      "source": [
        "#mereset index data train\n",
        "df_train = df_train.reset_index(drop=True)\n",
        "df_train"
      ],
      "execution_count": null,
      "outputs": [
        {
          "output_type": "execute_result",
          "data": {
            "text/html": [
              "<div>\n",
              "<style scoped>\n",
              "    .dataframe tbody tr th:only-of-type {\n",
              "        vertical-align: middle;\n",
              "    }\n",
              "\n",
              "    .dataframe tbody tr th {\n",
              "        vertical-align: top;\n",
              "    }\n",
              "\n",
              "    .dataframe thead th {\n",
              "        text-align: right;\n",
              "    }\n",
              "</style>\n",
              "<table border=\"1\" class=\"dataframe\">\n",
              "  <thead>\n",
              "    <tr style=\"text-align: right;\">\n",
              "      <th></th>\n",
              "      <th>SuhuMin</th>\n",
              "      <th>SuhuMax</th>\n",
              "      <th>Hujan</th>\n",
              "      <th>SinarMatahari</th>\n",
              "      <th>Awan3pm</th>\n",
              "      <th>Suhu3pm</th>\n",
              "      <th>BersaljuBesok</th>\n",
              "    </tr>\n",
              "  </thead>\n",
              "  <tbody>\n",
              "    <tr>\n",
              "      <th>0</th>\n",
              "      <td>7.3</td>\n",
              "      <td>24.5</td>\n",
              "      <td>0.0</td>\n",
              "      <td>10.4</td>\n",
              "      <td>7.0</td>\n",
              "      <td>23.2</td>\n",
              "      <td>0.0</td>\n",
              "    </tr>\n",
              "    <tr>\n",
              "      <th>1</th>\n",
              "      <td>5.9</td>\n",
              "      <td>20.3</td>\n",
              "      <td>0.0</td>\n",
              "      <td>12.6</td>\n",
              "      <td>6.0</td>\n",
              "      <td>18.1</td>\n",
              "      <td>0.0</td>\n",
              "    </tr>\n",
              "    <tr>\n",
              "      <th>2</th>\n",
              "      <td>14.4</td>\n",
              "      <td>21.8</td>\n",
              "      <td>0.0</td>\n",
              "      <td>4.4</td>\n",
              "      <td>7.0</td>\n",
              "      <td>21.1</td>\n",
              "      <td>0.0</td>\n",
              "    </tr>\n",
              "    <tr>\n",
              "      <th>3</th>\n",
              "      <td>7.7</td>\n",
              "      <td>18.7</td>\n",
              "      <td>0.2</td>\n",
              "      <td>9.7</td>\n",
              "      <td>1.0</td>\n",
              "      <td>18.3</td>\n",
              "      <td>0.0</td>\n",
              "    </tr>\n",
              "    <tr>\n",
              "      <th>4</th>\n",
              "      <td>18.4</td>\n",
              "      <td>35.3</td>\n",
              "      <td>0.0</td>\n",
              "      <td>12.5</td>\n",
              "      <td>0.0</td>\n",
              "      <td>34.9</td>\n",
              "      <td>0.0</td>\n",
              "    </tr>\n",
              "    <tr>\n",
              "      <th>...</th>\n",
              "      <td>...</td>\n",
              "      <td>...</td>\n",
              "      <td>...</td>\n",
              "      <td>...</td>\n",
              "      <td>...</td>\n",
              "      <td>...</td>\n",
              "      <td>...</td>\n",
              "    </tr>\n",
              "    <tr>\n",
              "      <th>39207</th>\n",
              "      <td>16.8</td>\n",
              "      <td>34.1</td>\n",
              "      <td>0.0</td>\n",
              "      <td>10.3</td>\n",
              "      <td>4.0</td>\n",
              "      <td>33.0</td>\n",
              "      <td>0.0</td>\n",
              "    </tr>\n",
              "    <tr>\n",
              "      <th>39208</th>\n",
              "      <td>8.7</td>\n",
              "      <td>19.0</td>\n",
              "      <td>0.0</td>\n",
              "      <td>9.6</td>\n",
              "      <td>2.0</td>\n",
              "      <td>16.5</td>\n",
              "      <td>0.0</td>\n",
              "    </tr>\n",
              "    <tr>\n",
              "      <th>39209</th>\n",
              "      <td>14.3</td>\n",
              "      <td>26.2</td>\n",
              "      <td>0.0</td>\n",
              "      <td>12.6</td>\n",
              "      <td>2.0</td>\n",
              "      <td>25.5</td>\n",
              "      <td>0.0</td>\n",
              "    </tr>\n",
              "    <tr>\n",
              "      <th>39210</th>\n",
              "      <td>20.1</td>\n",
              "      <td>23.7</td>\n",
              "      <td>0.0</td>\n",
              "      <td>8.9</td>\n",
              "      <td>6.0</td>\n",
              "      <td>22.1</td>\n",
              "      <td>1.0</td>\n",
              "    </tr>\n",
              "    <tr>\n",
              "      <th>39211</th>\n",
              "      <td>10.8</td>\n",
              "      <td>29.8</td>\n",
              "      <td>0.0</td>\n",
              "      <td>11.2</td>\n",
              "      <td>1.0</td>\n",
              "      <td>29.2</td>\n",
              "      <td>0.0</td>\n",
              "    </tr>\n",
              "  </tbody>\n",
              "</table>\n",
              "<p>39212 rows × 7 columns</p>\n",
              "</div>"
            ],
            "text/plain": [
              "       SuhuMin  SuhuMax  Hujan  SinarMatahari  Awan3pm  Suhu3pm  BersaljuBesok\n",
              "0          7.3     24.5    0.0           10.4      7.0     23.2            0.0\n",
              "1          5.9     20.3    0.0           12.6      6.0     18.1            0.0\n",
              "2         14.4     21.8    0.0            4.4      7.0     21.1            0.0\n",
              "3          7.7     18.7    0.2            9.7      1.0     18.3            0.0\n",
              "4         18.4     35.3    0.0           12.5      0.0     34.9            0.0\n",
              "...        ...      ...    ...            ...      ...      ...            ...\n",
              "39207     16.8     34.1    0.0           10.3      4.0     33.0            0.0\n",
              "39208      8.7     19.0    0.0            9.6      2.0     16.5            0.0\n",
              "39209     14.3     26.2    0.0           12.6      2.0     25.5            0.0\n",
              "39210     20.1     23.7    0.0            8.9      6.0     22.1            1.0\n",
              "39211     10.8     29.8    0.0           11.2      1.0     29.2            0.0\n",
              "\n",
              "[39212 rows x 7 columns]"
            ]
          },
          "metadata": {
            "tags": []
          },
          "execution_count": 32
        }
      ]
    },
    {
      "cell_type": "code",
      "metadata": {
        "colab": {
          "base_uri": "https://localhost:8080/",
          "height": 419
        },
        "id": "o27QAXE25WSy",
        "outputId": "ad2bb542-caf8-4c9a-a670-8d0ee247aae5"
      },
      "source": [
        "#mereset index data test\n",
        "df_test = df_test.reset_index(drop=True)\n",
        "df_test"
      ],
      "execution_count": null,
      "outputs": [
        {
          "output_type": "execute_result",
          "data": {
            "text/html": [
              "<div>\n",
              "<style scoped>\n",
              "    .dataframe tbody tr th:only-of-type {\n",
              "        vertical-align: middle;\n",
              "    }\n",
              "\n",
              "    .dataframe tbody tr th {\n",
              "        vertical-align: top;\n",
              "    }\n",
              "\n",
              "    .dataframe thead th {\n",
              "        text-align: right;\n",
              "    }\n",
              "</style>\n",
              "<table border=\"1\" class=\"dataframe\">\n",
              "  <thead>\n",
              "    <tr style=\"text-align: right;\">\n",
              "      <th></th>\n",
              "      <th>SuhuMin</th>\n",
              "      <th>SuhuMax</th>\n",
              "      <th>Hujan</th>\n",
              "      <th>SinarMatahari</th>\n",
              "      <th>Awan3pm</th>\n",
              "      <th>Suhu3pm</th>\n",
              "      <th>BersaljuBesok</th>\n",
              "    </tr>\n",
              "  </thead>\n",
              "  <tbody>\n",
              "    <tr>\n",
              "      <th>0</th>\n",
              "      <td>11.0</td>\n",
              "      <td>27.5</td>\n",
              "      <td>0.0</td>\n",
              "      <td>6.4</td>\n",
              "      <td>7.0</td>\n",
              "      <td>23.6</td>\n",
              "      <td>0.0</td>\n",
              "    </tr>\n",
              "    <tr>\n",
              "      <th>1</th>\n",
              "      <td>9.2</td>\n",
              "      <td>27.2</td>\n",
              "      <td>0.0</td>\n",
              "      <td>10.4</td>\n",
              "      <td>1.0</td>\n",
              "      <td>26.3</td>\n",
              "      <td>0.0</td>\n",
              "    </tr>\n",
              "    <tr>\n",
              "      <th>2</th>\n",
              "      <td>17.7</td>\n",
              "      <td>27.0</td>\n",
              "      <td>0.0</td>\n",
              "      <td>6.7</td>\n",
              "      <td>6.0</td>\n",
              "      <td>26.4</td>\n",
              "      <td>0.0</td>\n",
              "    </tr>\n",
              "    <tr>\n",
              "      <th>3</th>\n",
              "      <td>14.4</td>\n",
              "      <td>22.4</td>\n",
              "      <td>0.0</td>\n",
              "      <td>3.9</td>\n",
              "      <td>7.0</td>\n",
              "      <td>20.9</td>\n",
              "      <td>0.0</td>\n",
              "    </tr>\n",
              "    <tr>\n",
              "      <th>4</th>\n",
              "      <td>20.3</td>\n",
              "      <td>33.7</td>\n",
              "      <td>0.0</td>\n",
              "      <td>11.1</td>\n",
              "      <td>5.0</td>\n",
              "      <td>32.2</td>\n",
              "      <td>0.0</td>\n",
              "    </tr>\n",
              "    <tr>\n",
              "      <th>...</th>\n",
              "      <td>...</td>\n",
              "      <td>...</td>\n",
              "      <td>...</td>\n",
              "      <td>...</td>\n",
              "      <td>...</td>\n",
              "      <td>...</td>\n",
              "      <td>...</td>\n",
              "    </tr>\n",
              "    <tr>\n",
              "      <th>6555</th>\n",
              "      <td>13.4</td>\n",
              "      <td>24.9</td>\n",
              "      <td>0.0</td>\n",
              "      <td>9.7</td>\n",
              "      <td>7.0</td>\n",
              "      <td>23.7</td>\n",
              "      <td>0.0</td>\n",
              "    </tr>\n",
              "    <tr>\n",
              "      <th>6556</th>\n",
              "      <td>14.6</td>\n",
              "      <td>27.8</td>\n",
              "      <td>0.0</td>\n",
              "      <td>10.1</td>\n",
              "      <td>2.0</td>\n",
              "      <td>25.3</td>\n",
              "      <td>0.0</td>\n",
              "    </tr>\n",
              "    <tr>\n",
              "      <th>6557</th>\n",
              "      <td>7.8</td>\n",
              "      <td>25.8</td>\n",
              "      <td>0.0</td>\n",
              "      <td>13.2</td>\n",
              "      <td>1.0</td>\n",
              "      <td>24.0</td>\n",
              "      <td>0.0</td>\n",
              "    </tr>\n",
              "    <tr>\n",
              "      <th>6558</th>\n",
              "      <td>12.4</td>\n",
              "      <td>26.6</td>\n",
              "      <td>0.0</td>\n",
              "      <td>11.6</td>\n",
              "      <td>1.0</td>\n",
              "      <td>25.7</td>\n",
              "      <td>0.0</td>\n",
              "    </tr>\n",
              "    <tr>\n",
              "      <th>6559</th>\n",
              "      <td>12.5</td>\n",
              "      <td>26.7</td>\n",
              "      <td>0.0</td>\n",
              "      <td>10.8</td>\n",
              "      <td>5.0</td>\n",
              "      <td>25.4</td>\n",
              "      <td>0.0</td>\n",
              "    </tr>\n",
              "  </tbody>\n",
              "</table>\n",
              "<p>6560 rows × 7 columns</p>\n",
              "</div>"
            ],
            "text/plain": [
              "      SuhuMin  SuhuMax  Hujan  SinarMatahari  Awan3pm  Suhu3pm  BersaljuBesok\n",
              "0        11.0     27.5    0.0            6.4      7.0     23.6            0.0\n",
              "1         9.2     27.2    0.0           10.4      1.0     26.3            0.0\n",
              "2        17.7     27.0    0.0            6.7      6.0     26.4            0.0\n",
              "3        14.4     22.4    0.0            3.9      7.0     20.9            0.0\n",
              "4        20.3     33.7    0.0           11.1      5.0     32.2            0.0\n",
              "...       ...      ...    ...            ...      ...      ...            ...\n",
              "6555     13.4     24.9    0.0            9.7      7.0     23.7            0.0\n",
              "6556     14.6     27.8    0.0           10.1      2.0     25.3            0.0\n",
              "6557      7.8     25.8    0.0           13.2      1.0     24.0            0.0\n",
              "6558     12.4     26.6    0.0           11.6      1.0     25.7            0.0\n",
              "6559     12.5     26.7    0.0           10.8      5.0     25.4            0.0\n",
              "\n",
              "[6560 rows x 7 columns]"
            ]
          },
          "metadata": {
            "tags": []
          },
          "execution_count": 33
        }
      ]
    },
    {
      "cell_type": "markdown",
      "metadata": {
        "id": "lAIn9V-I1cIp"
      },
      "source": [
        "**X dan Y**\n",
        "> memecah data kedalam data X dan Y dengan ketentuan X data keseluruhan dan Y data label"
      ]
    },
    {
      "cell_type": "code",
      "metadata": {
        "id": "jVmTFK6rzPKt"
      },
      "source": [
        "#memasukan data train keseluruhan selain label pada variabel x\n",
        "x_train = df_train.iloc[1:, :-1]\n",
        "#memasukan data value label train kedalam variabel y yang berbentuk array\n",
        "y_train = df_train.iloc[1:, 6].values"
      ],
      "execution_count": null,
      "outputs": []
    },
    {
      "cell_type": "code",
      "metadata": {
        "id": "NbGugaDqzX-l"
      },
      "source": [
        "#memasukan data test keseluruhan selain label pada variabel x\n",
        "x_test = df_test.iloc[1:, :-1]\n",
        "#memasukan data value label test kedalam variabel y yang berbentuk array\n",
        "y_test = df_test.iloc[1:, 6].values"
      ],
      "execution_count": null,
      "outputs": []
    },
    {
      "cell_type": "code",
      "metadata": {
        "colab": {
          "base_uri": "https://localhost:8080/"
        },
        "id": "llEAHyR-F-vv",
        "outputId": "cc9e5b65-2dda-443f-ab57-28f7ef912e67"
      },
      "source": [
        "y_train"
      ],
      "execution_count": null,
      "outputs": [
        {
          "output_type": "execute_result",
          "data": {
            "text/plain": [
              "array([0., 0., 0., ..., 0., 1., 0.])"
            ]
          },
          "metadata": {
            "tags": []
          },
          "execution_count": 40
        }
      ]
    },
    {
      "cell_type": "code",
      "metadata": {
        "colab": {
          "base_uri": "https://localhost:8080/"
        },
        "id": "AyZ-gyyGGAOX",
        "outputId": "ad3938bb-f408-493d-df52-44550c7dec73"
      },
      "source": [
        "y_test"
      ],
      "execution_count": null,
      "outputs": [
        {
          "output_type": "execute_result",
          "data": {
            "text/plain": [
              "array([0., 0., 0., ..., 0., 0., 0.])"
            ]
          },
          "metadata": {
            "tags": []
          },
          "execution_count": 41
        }
      ]
    },
    {
      "cell_type": "markdown",
      "metadata": {
        "id": "Rnf6DnoVdGwT"
      },
      "source": [
        "**Scaling**\n",
        "> Scaling dengan menggunakan MinMaxScaleer, ini dipilih untuk membuat persebaran data menjadi tidak terlalu jauh nilainya"
      ]
    },
    {
      "cell_type": "code",
      "metadata": {
        "id": "4m3N0E-Z6iMZ"
      },
      "source": [
        "#melakukan scaling terhadap x_train\n",
        "x_train = MinMaxScaler().fit_transform(x_train)"
      ],
      "execution_count": null,
      "outputs": []
    },
    {
      "cell_type": "code",
      "metadata": {
        "id": "TviogWYsdF0B"
      },
      "source": [
        "#melakukan scaling terhadap x_test\n",
        "x_test = MinMaxScaler().fit_transform(x_test)"
      ],
      "execution_count": null,
      "outputs": []
    },
    {
      "cell_type": "code",
      "metadata": {
        "colab": {
          "base_uri": "https://localhost:8080/"
        },
        "id": "QByjeOkpF6vb",
        "outputId": "c44d681e-4f87-44d5-f9cf-26ca2c0a5ea8"
      },
      "source": [
        "x_train"
      ],
      "execution_count": null,
      "outputs": [
        {
          "output_type": "execute_result",
          "data": {
            "text/plain": [
              "array([[0.32231405, 0.35989717, 0.        , 0.88111888, 0.66666667,\n",
              "        0.34391534],\n",
              "       [0.55647383, 0.39845758, 0.        , 0.30769231, 0.77777778,\n",
              "        0.42328042],\n",
              "       [0.37190083, 0.31876607, 0.10526316, 0.67832168, 0.11111111,\n",
              "        0.34920635],\n",
              "       ...,\n",
              "       [0.55371901, 0.51156812, 0.        , 0.88111888, 0.22222222,\n",
              "        0.53968254],\n",
              "       [0.71349862, 0.44730077, 0.        , 0.62237762, 0.66666667,\n",
              "        0.44973545],\n",
              "       [0.45730028, 0.60411311, 0.        , 0.78321678, 0.11111111,\n",
              "        0.63756614]])"
            ]
          },
          "metadata": {
            "tags": []
          },
          "execution_count": 38
        }
      ]
    },
    {
      "cell_type": "code",
      "metadata": {
        "colab": {
          "base_uri": "https://localhost:8080/"
        },
        "id": "NSDrckO8F8lr",
        "outputId": "6dc8dda0-d3ba-4a90-e0f7-43fed0944bbe"
      },
      "source": [
        "x_test"
      ],
      "execution_count": null,
      "outputs": [
        {
          "output_type": "execute_result",
          "data": {
            "text/plain": [
              "array([[0.40869565, 0.51902174, 0.        , 0.71724138, 0.125     ,\n",
              "        0.54032258],\n",
              "       [0.65507246, 0.51358696, 0.        , 0.46206897, 0.75      ,\n",
              "        0.54301075],\n",
              "       [0.55942029, 0.38858696, 0.        , 0.26896552, 0.875     ,\n",
              "        0.39516129],\n",
              "       ...,\n",
              "       [0.36811594, 0.48097826, 0.        , 0.91034483, 0.125     ,\n",
              "        0.47849462],\n",
              "       [0.50144928, 0.50271739, 0.        , 0.8       , 0.125     ,\n",
              "        0.52419355],\n",
              "       [0.50434783, 0.50543478, 0.        , 0.74482759, 0.625     ,\n",
              "        0.51612903]])"
            ]
          },
          "metadata": {
            "tags": []
          },
          "execution_count": 39
        }
      ]
    },
    {
      "cell_type": "markdown",
      "metadata": {
        "id": "5oCkXAEf6C9W"
      },
      "source": [
        "# Pemodelan / Classification"
      ]
    },
    {
      "cell_type": "markdown",
      "metadata": {
        "id": "RqY0Km67BTuz"
      },
      "source": [
        "**Naive Bayes**\n",
        "> Metode Naive Bayes adalah metode utama yang digunakan dalam klasifikasi ini"
      ]
    },
    {
      "cell_type": "code",
      "metadata": {
        "id": "VUJt5-s867mA"
      },
      "source": [
        "#library klasifikasi dengan metode Gaussian Naive Bayes\n",
        "from sklearn.naive_bayes import GaussianNB"
      ],
      "execution_count": null,
      "outputs": []
    },
    {
      "cell_type": "code",
      "metadata": {
        "id": "naqQlKzncd9w"
      },
      "source": [
        "#memanggil fungsi gaussian naive bayes terhadap x_train dan y_train dan memprediksi terhadap x_test\n",
        "gnb = GaussianNB()\n",
        "gnb.fit(x_train, y_train)\n",
        "y_pred = gnb.predict(x_test)"
      ],
      "execution_count": null,
      "outputs": []
    },
    {
      "cell_type": "code",
      "metadata": {
        "colab": {
          "base_uri": "https://localhost:8080/"
        },
        "id": "pJp0lcw9CLTA",
        "outputId": "9bd3a93b-edc5-4423-8482-e42bab2515ff"
      },
      "source": [
        "#menampilkan hasil y_pred\n",
        "y_pred"
      ],
      "execution_count": null,
      "outputs": [
        {
          "output_type": "execute_result",
          "data": {
            "text/plain": [
              "array([0., 0., 1., ..., 0., 0., 0.])"
            ]
          },
          "metadata": {
            "tags": []
          },
          "execution_count": 44
        }
      ]
    },
    {
      "cell_type": "markdown",
      "metadata": {
        "id": "1fXlkqfF5VHW"
      },
      "source": [
        "# Evaluasi"
      ]
    },
    {
      "cell_type": "markdown",
      "metadata": {
        "id": "gDgTM8e6mYqV"
      },
      "source": [
        "**Confusion Matrix**\n",
        "> Pada tahap evaluasi ini menggunakan confusion matrix, hal ini dilakukan untuk mencari akurasi dari suatu model/classifier"
      ]
    },
    {
      "cell_type": "code",
      "metadata": {
        "id": "DA0DzgNV_SO1"
      },
      "source": [
        "# library untuk pembuatan matrix\n",
        "from sklearn import metrics\n",
        "from sklearn.metrics import accuracy_score\n",
        "from sklearn.metrics import confusion_matrix\n",
        "from sklearn.metrics import classification_report"
      ],
      "execution_count": null,
      "outputs": []
    },
    {
      "cell_type": "code",
      "metadata": {
        "id": "Qenz8hm08bdR",
        "colab": {
          "base_uri": "https://localhost:8080/"
        },
        "outputId": "9f164523-8de2-4ba1-fd5c-a1fa60921821"
      },
      "source": [
        "#menghitung akurasi dari nilai actual/y_test dengan nilai prediksi/y_pred\n",
        "print(\"Hasil Akurasi Naive Bayes:\", accuracy_score(y_test, y_pred)*100, \"%\")"
      ],
      "execution_count": null,
      "outputs": [
        {
          "output_type": "stream",
          "text": [
            "Hasil Akurasi Naive Bayes: 77.93871016923312 %\n"
          ],
          "name": "stdout"
        }
      ]
    },
    {
      "cell_type": "code",
      "metadata": {
        "colab": {
          "base_uri": "https://localhost:8080/"
        },
        "id": "kn6KFNQRCVDU",
        "outputId": "49c172a5-6ae6-4eff-dc42-a3eba9ea2609"
      },
      "source": [
        "#menampilkan confusin matrix dari hasil klasifikasi\n",
        "print(\"Confusion Matrix\")\n",
        "print(confusion_matrix(y_test, y_pred))"
      ],
      "execution_count": null,
      "outputs": [
        {
          "output_type": "stream",
          "text": [
            "Confusion Matrix\n",
            "[[4496  946]\n",
            " [ 501  616]]\n"
          ],
          "name": "stdout"
        }
      ]
    },
    {
      "cell_type": "code",
      "metadata": {
        "colab": {
          "base_uri": "https://localhost:8080/"
        },
        "id": "MQ3yyZS_CU5f",
        "outputId": "c91b86b6-1c2f-4d37-864f-4d0e2093adfb"
      },
      "source": [
        "#menampilkan classification report\n",
        "print(\"Classification Report\")\n",
        "print(classification_report(y_test,y_pred))"
      ],
      "execution_count": null,
      "outputs": [
        {
          "output_type": "stream",
          "text": [
            "Classification Report\n",
            "              precision    recall  f1-score   support\n",
            "\n",
            "         0.0       0.90      0.83      0.86      5442\n",
            "         1.0       0.39      0.55      0.46      1117\n",
            "\n",
            "    accuracy                           0.78      6559\n",
            "   macro avg       0.65      0.69      0.66      6559\n",
            "weighted avg       0.81      0.78      0.79      6559\n",
            "\n"
          ],
          "name": "stdout"
        }
      ]
    },
    {
      "cell_type": "code",
      "metadata": {
        "colab": {
          "base_uri": "https://localhost:8080/",
          "height": 419
        },
        "id": "yKItBOEHCbP-",
        "outputId": "a61aa744-e5b1-47cb-e95e-9323d2676656"
      },
      "source": [
        "#membuat dataframe untuk membandingkan nilai actual dan nilai prediksi \n",
        "df = pd.DataFrame({'Actual': y_test, 'Predict': y_pred})\n",
        "df"
      ],
      "execution_count": null,
      "outputs": [
        {
          "output_type": "execute_result",
          "data": {
            "text/html": [
              "<div>\n",
              "<style scoped>\n",
              "    .dataframe tbody tr th:only-of-type {\n",
              "        vertical-align: middle;\n",
              "    }\n",
              "\n",
              "    .dataframe tbody tr th {\n",
              "        vertical-align: top;\n",
              "    }\n",
              "\n",
              "    .dataframe thead th {\n",
              "        text-align: right;\n",
              "    }\n",
              "</style>\n",
              "<table border=\"1\" class=\"dataframe\">\n",
              "  <thead>\n",
              "    <tr style=\"text-align: right;\">\n",
              "      <th></th>\n",
              "      <th>Actual</th>\n",
              "      <th>Predict</th>\n",
              "    </tr>\n",
              "  </thead>\n",
              "  <tbody>\n",
              "    <tr>\n",
              "      <th>0</th>\n",
              "      <td>0.0</td>\n",
              "      <td>0.0</td>\n",
              "    </tr>\n",
              "    <tr>\n",
              "      <th>1</th>\n",
              "      <td>0.0</td>\n",
              "      <td>0.0</td>\n",
              "    </tr>\n",
              "    <tr>\n",
              "      <th>2</th>\n",
              "      <td>0.0</td>\n",
              "      <td>1.0</td>\n",
              "    </tr>\n",
              "    <tr>\n",
              "      <th>3</th>\n",
              "      <td>0.0</td>\n",
              "      <td>0.0</td>\n",
              "    </tr>\n",
              "    <tr>\n",
              "      <th>4</th>\n",
              "      <td>0.0</td>\n",
              "      <td>1.0</td>\n",
              "    </tr>\n",
              "    <tr>\n",
              "      <th>...</th>\n",
              "      <td>...</td>\n",
              "      <td>...</td>\n",
              "    </tr>\n",
              "    <tr>\n",
              "      <th>6554</th>\n",
              "      <td>0.0</td>\n",
              "      <td>0.0</td>\n",
              "    </tr>\n",
              "    <tr>\n",
              "      <th>6555</th>\n",
              "      <td>0.0</td>\n",
              "      <td>0.0</td>\n",
              "    </tr>\n",
              "    <tr>\n",
              "      <th>6556</th>\n",
              "      <td>0.0</td>\n",
              "      <td>0.0</td>\n",
              "    </tr>\n",
              "    <tr>\n",
              "      <th>6557</th>\n",
              "      <td>0.0</td>\n",
              "      <td>0.0</td>\n",
              "    </tr>\n",
              "    <tr>\n",
              "      <th>6558</th>\n",
              "      <td>0.0</td>\n",
              "      <td>0.0</td>\n",
              "    </tr>\n",
              "  </tbody>\n",
              "</table>\n",
              "<p>6559 rows × 2 columns</p>\n",
              "</div>"
            ],
            "text/plain": [
              "      Actual  Predict\n",
              "0        0.0      0.0\n",
              "1        0.0      0.0\n",
              "2        0.0      1.0\n",
              "3        0.0      0.0\n",
              "4        0.0      1.0\n",
              "...      ...      ...\n",
              "6554     0.0      0.0\n",
              "6555     0.0      0.0\n",
              "6556     0.0      0.0\n",
              "6557     0.0      0.0\n",
              "6558     0.0      0.0\n",
              "\n",
              "[6559 rows x 2 columns]"
            ]
          },
          "metadata": {
            "tags": []
          },
          "execution_count": 49
        }
      ]
    },
    {
      "cell_type": "markdown",
      "metadata": {
        "id": "N6geeFDfIZMh"
      },
      "source": [
        "**Export Data**\n",
        "> Pada tahap ini data hasil klasifikasi akan diexport menjadi csv melalui google drive"
      ]
    },
    {
      "cell_type": "code",
      "metadata": {
        "colab": {
          "base_uri": "https://localhost:8080/"
        },
        "id": "jyOjKuhgIYgo",
        "outputId": "19f54eb3-a3c4-442e-8cb3-00c681e0fda7"
      },
      "source": [
        "from google.colab import drive\n",
        "drive.mount('/content/drive')"
      ],
      "execution_count": null,
      "outputs": [
        {
          "output_type": "stream",
          "text": [
            "Mounted at /content/drive\n"
          ],
          "name": "stdout"
        }
      ]
    },
    {
      "cell_type": "code",
      "metadata": {
        "id": "RR54nKrHH4Y6"
      },
      "source": [
        "df.to_csv(\"drive/My Drive/TubesMalin/hasil_klasifikasi_saljuNB.csv\")"
      ],
      "execution_count": null,
      "outputs": []
    },
    {
      "cell_type": "markdown",
      "metadata": {
        "id": "rZgISAJs5WRF"
      },
      "source": [
        "# Eksperimen"
      ]
    },
    {
      "cell_type": "markdown",
      "metadata": {
        "id": "AT7KMyrfqNmo"
      },
      "source": [
        "Pada Tahap Eksperimen ini kami membandingkan hasil akurasi beberapa metode klasifikasi yaitu\n",
        "\n",
        "*   SVM\n",
        "*   KNN\n",
        "*   Random Forest\n",
        "\n",
        "\n",
        "\n",
        "\n",
        "\n",
        "\n"
      ]
    },
    {
      "cell_type": "markdown",
      "metadata": {
        "id": "u8b3TtN2FxD8"
      },
      "source": [
        "## Ekperimen 1"
      ]
    },
    {
      "cell_type": "markdown",
      "metadata": {
        "id": "9MaG7PeCYYpM"
      },
      "source": [
        "**SVM**"
      ]
    },
    {
      "cell_type": "code",
      "metadata": {
        "id": "QpMfyet-AJJu"
      },
      "source": [
        "#library\n",
        "from sklearn import svm"
      ],
      "execution_count": null,
      "outputs": []
    },
    {
      "cell_type": "code",
      "metadata": {
        "id": "0KAfFQogEuFV",
        "colab": {
          "base_uri": "https://localhost:8080/"
        },
        "outputId": "0e593cd3-00a5-43ca-dda3-1b206413fc95"
      },
      "source": [
        "#memanggil fungsi svm dengan kernel rbf \n",
        "svm = svm.SVC(kernel='rbf')\n",
        "svm.fit(x_train, y_train)\n",
        "y_pred1 = svm.predict(x_test)\n",
        "y_pred1"
      ],
      "execution_count": null,
      "outputs": [
        {
          "output_type": "execute_result",
          "data": {
            "text/plain": [
              "array([0., 0., 0., ..., 0., 0., 0.])"
            ]
          },
          "metadata": {
            "tags": []
          },
          "execution_count": 51
        }
      ]
    },
    {
      "cell_type": "code",
      "metadata": {
        "colab": {
          "base_uri": "https://localhost:8080/"
        },
        "id": "JK0O4tKDQu-b",
        "outputId": "3396db66-9ea0-44dd-de72-142b9245e26a"
      },
      "source": [
        "#menghitung akurasi dari nilai actual/y_test dengan nilai prediksi/y_pred\n",
        "print(\"Hasil akurasi SVM : \", accuracy_score(y_test, y_pred1)*100, \"%\")"
      ],
      "execution_count": null,
      "outputs": [
        {
          "output_type": "stream",
          "text": [
            "Hasil akurasi SVM :  85.24165269095899 %\n"
          ],
          "name": "stdout"
        }
      ]
    },
    {
      "cell_type": "code",
      "metadata": {
        "colab": {
          "base_uri": "https://localhost:8080/"
        },
        "id": "SiQaxHxRR_u4",
        "outputId": "617caf88-b90d-4d39-9d2e-924138fda4b7"
      },
      "source": [
        "#menampilkan confusion matrix dari hasil klasifikasi\n",
        "print(\"Confusion Matrix\")\n",
        "print(confusion_matrix(y_test, y_pred1))"
      ],
      "execution_count": null,
      "outputs": [
        {
          "output_type": "stream",
          "text": [
            "Confusion Matrix\n",
            "[[5279  163]\n",
            " [ 805  312]]\n"
          ],
          "name": "stdout"
        }
      ]
    },
    {
      "cell_type": "code",
      "metadata": {
        "colab": {
          "base_uri": "https://localhost:8080/"
        },
        "id": "kscdcDYxSCnW",
        "outputId": "b5d546d2-5d4d-4764-dc01-f3cb700a22a9"
      },
      "source": [
        "#menampilkan classification report\n",
        "print(\"Classification Report\")\n",
        "print(classification_report(y_test,y_pred1))"
      ],
      "execution_count": null,
      "outputs": [
        {
          "output_type": "stream",
          "text": [
            "Classification Report\n",
            "              precision    recall  f1-score   support\n",
            "\n",
            "         0.0       0.87      0.97      0.92      5442\n",
            "         1.0       0.66      0.28      0.39      1117\n",
            "\n",
            "    accuracy                           0.85      6559\n",
            "   macro avg       0.76      0.62      0.65      6559\n",
            "weighted avg       0.83      0.85      0.83      6559\n",
            "\n"
          ],
          "name": "stdout"
        }
      ]
    },
    {
      "cell_type": "code",
      "metadata": {
        "colab": {
          "base_uri": "https://localhost:8080/",
          "height": 419
        },
        "id": "ehaSWjr8UEei",
        "outputId": "0d0bd7b0-0650-477b-cf3a-0b653ff8ffbd"
      },
      "source": [
        "#membuat dataframe untuk membandingkan nilai actual dan nilai prediksi \n",
        "df1 = pd.DataFrame({'Actual': y_test, 'Predict': y_pred1})\n",
        "df1"
      ],
      "execution_count": null,
      "outputs": [
        {
          "output_type": "execute_result",
          "data": {
            "text/html": [
              "<div>\n",
              "<style scoped>\n",
              "    .dataframe tbody tr th:only-of-type {\n",
              "        vertical-align: middle;\n",
              "    }\n",
              "\n",
              "    .dataframe tbody tr th {\n",
              "        vertical-align: top;\n",
              "    }\n",
              "\n",
              "    .dataframe thead th {\n",
              "        text-align: right;\n",
              "    }\n",
              "</style>\n",
              "<table border=\"1\" class=\"dataframe\">\n",
              "  <thead>\n",
              "    <tr style=\"text-align: right;\">\n",
              "      <th></th>\n",
              "      <th>Actual</th>\n",
              "      <th>Predict</th>\n",
              "    </tr>\n",
              "  </thead>\n",
              "  <tbody>\n",
              "    <tr>\n",
              "      <th>0</th>\n",
              "      <td>0.0</td>\n",
              "      <td>0.0</td>\n",
              "    </tr>\n",
              "    <tr>\n",
              "      <th>1</th>\n",
              "      <td>0.0</td>\n",
              "      <td>0.0</td>\n",
              "    </tr>\n",
              "    <tr>\n",
              "      <th>2</th>\n",
              "      <td>0.0</td>\n",
              "      <td>0.0</td>\n",
              "    </tr>\n",
              "    <tr>\n",
              "      <th>3</th>\n",
              "      <td>0.0</td>\n",
              "      <td>0.0</td>\n",
              "    </tr>\n",
              "    <tr>\n",
              "      <th>4</th>\n",
              "      <td>0.0</td>\n",
              "      <td>0.0</td>\n",
              "    </tr>\n",
              "    <tr>\n",
              "      <th>...</th>\n",
              "      <td>...</td>\n",
              "      <td>...</td>\n",
              "    </tr>\n",
              "    <tr>\n",
              "      <th>6554</th>\n",
              "      <td>0.0</td>\n",
              "      <td>0.0</td>\n",
              "    </tr>\n",
              "    <tr>\n",
              "      <th>6555</th>\n",
              "      <td>0.0</td>\n",
              "      <td>0.0</td>\n",
              "    </tr>\n",
              "    <tr>\n",
              "      <th>6556</th>\n",
              "      <td>0.0</td>\n",
              "      <td>0.0</td>\n",
              "    </tr>\n",
              "    <tr>\n",
              "      <th>6557</th>\n",
              "      <td>0.0</td>\n",
              "      <td>0.0</td>\n",
              "    </tr>\n",
              "    <tr>\n",
              "      <th>6558</th>\n",
              "      <td>0.0</td>\n",
              "      <td>0.0</td>\n",
              "    </tr>\n",
              "  </tbody>\n",
              "</table>\n",
              "<p>6559 rows × 2 columns</p>\n",
              "</div>"
            ],
            "text/plain": [
              "      Actual  Predict\n",
              "0        0.0      0.0\n",
              "1        0.0      0.0\n",
              "2        0.0      0.0\n",
              "3        0.0      0.0\n",
              "4        0.0      0.0\n",
              "...      ...      ...\n",
              "6554     0.0      0.0\n",
              "6555     0.0      0.0\n",
              "6556     0.0      0.0\n",
              "6557     0.0      0.0\n",
              "6558     0.0      0.0\n",
              "\n",
              "[6559 rows x 2 columns]"
            ]
          },
          "metadata": {
            "tags": []
          },
          "execution_count": 55
        }
      ]
    },
    {
      "cell_type": "markdown",
      "metadata": {
        "id": "qrKblF1ZI1vi"
      },
      "source": [
        "**Export Data**\n",
        "> Pada tahap ini data hasil klasifikasi akan diexport menjadi csv melalui google drive"
      ]
    },
    {
      "cell_type": "code",
      "metadata": {
        "id": "Q2A_BP38I1vm"
      },
      "source": [
        "df1.to_csv(\"drive/My Drive/TubesMalin/hasil_klasifikasi_saljuSVM.csv\")"
      ],
      "execution_count": null,
      "outputs": []
    },
    {
      "cell_type": "markdown",
      "metadata": {
        "id": "2KeWD2CoF6YA"
      },
      "source": [
        "## Ekperimen 2"
      ]
    },
    {
      "cell_type": "markdown",
      "metadata": {
        "id": "CMxCgBQZF6YB"
      },
      "source": [
        "**KNN**"
      ]
    },
    {
      "cell_type": "code",
      "metadata": {
        "id": "HAyGmKZIF6YB"
      },
      "source": [
        "#Library untuk KNN\n",
        "from sklearn.neighbors import KNeighborsClassifier"
      ],
      "execution_count": null,
      "outputs": []
    },
    {
      "cell_type": "code",
      "metadata": {
        "colab": {
          "base_uri": "https://localhost:8080/"
        },
        "id": "emw22YjXT1h5",
        "outputId": "2a56d05e-7c85-4d74-9f8c-0b51b72c19b0"
      },
      "source": [
        "#memanggil fungsi KNeighborsClassifier dengan parameter n = 5\n",
        "KNNclassifier = KNeighborsClassifier(n_neighbors=5)\n",
        "KNNclassifier.fit(x_train, y_train)\n",
        "y_pred2 = KNNclassifier.predict(x_test)\n",
        "y_pred2"
      ],
      "execution_count": null,
      "outputs": [
        {
          "output_type": "execute_result",
          "data": {
            "text/plain": [
              "array([0., 0., 1., ..., 0., 0., 0.])"
            ]
          },
          "metadata": {
            "tags": []
          },
          "execution_count": 57
        }
      ]
    },
    {
      "cell_type": "code",
      "metadata": {
        "colab": {
          "base_uri": "https://localhost:8080/"
        },
        "id": "W1KUieDIV75P",
        "outputId": "740aee9a-2738-48d4-f7e8-1a5608143286"
      },
      "source": [
        "#menghitung akurasi dari nilai actual/y_test dengan nilai prediksi/y_pred\n",
        "print(\"Hasil akurasi KNN : \", accuracy_score(y_test, y_pred2)*100, \"%\")"
      ],
      "execution_count": null,
      "outputs": [
        {
          "output_type": "stream",
          "text": [
            "Hasil akurasi KNN :  82.83274889464857 %\n"
          ],
          "name": "stdout"
        }
      ]
    },
    {
      "cell_type": "code",
      "metadata": {
        "colab": {
          "base_uri": "https://localhost:8080/"
        },
        "id": "OauNlPWnW9gn",
        "outputId": "874d2477-42dd-4f97-ac45-3daadec67193"
      },
      "source": [
        "#menampilkan confusion matrix dari hasil klasifikasi\n",
        "print(\"Confusion Matrix\")\n",
        "print(confusion_matrix(y_test, y_pred2))"
      ],
      "execution_count": null,
      "outputs": [
        {
          "output_type": "stream",
          "text": [
            "Confusion Matrix\n",
            "[[5023  419]\n",
            " [ 707  410]]\n"
          ],
          "name": "stdout"
        }
      ]
    },
    {
      "cell_type": "code",
      "metadata": {
        "colab": {
          "base_uri": "https://localhost:8080/"
        },
        "id": "aTVKR6_iXE8e",
        "outputId": "0c89d3f7-a2bb-458a-ccf4-73ad93c40c63"
      },
      "source": [
        "#menampilkan classification report\n",
        "print(\"Classification report\")\n",
        "print(classification_report(y_test,y_pred2))"
      ],
      "execution_count": null,
      "outputs": [
        {
          "output_type": "stream",
          "text": [
            "Classification report\n",
            "              precision    recall  f1-score   support\n",
            "\n",
            "         0.0       0.88      0.92      0.90      5442\n",
            "         1.0       0.49      0.37      0.42      1117\n",
            "\n",
            "    accuracy                           0.83      6559\n",
            "   macro avg       0.69      0.65      0.66      6559\n",
            "weighted avg       0.81      0.83      0.82      6559\n",
            "\n"
          ],
          "name": "stdout"
        }
      ]
    },
    {
      "cell_type": "code",
      "metadata": {
        "colab": {
          "base_uri": "https://localhost:8080/",
          "height": 419
        },
        "id": "1w9oRUqYXKq8",
        "outputId": "5958a088-37bc-43a6-907d-9a91cc4229d5"
      },
      "source": [
        "#membuat dataframe untuk membandingkan nilai actual dan nilai prediksi \n",
        "df2 = pd.DataFrame({'Actual': y_test, 'Predict': y_pred2})\n",
        "df2"
      ],
      "execution_count": null,
      "outputs": [
        {
          "output_type": "execute_result",
          "data": {
            "text/html": [
              "<div>\n",
              "<style scoped>\n",
              "    .dataframe tbody tr th:only-of-type {\n",
              "        vertical-align: middle;\n",
              "    }\n",
              "\n",
              "    .dataframe tbody tr th {\n",
              "        vertical-align: top;\n",
              "    }\n",
              "\n",
              "    .dataframe thead th {\n",
              "        text-align: right;\n",
              "    }\n",
              "</style>\n",
              "<table border=\"1\" class=\"dataframe\">\n",
              "  <thead>\n",
              "    <tr style=\"text-align: right;\">\n",
              "      <th></th>\n",
              "      <th>Actual</th>\n",
              "      <th>Predict</th>\n",
              "    </tr>\n",
              "  </thead>\n",
              "  <tbody>\n",
              "    <tr>\n",
              "      <th>0</th>\n",
              "      <td>0.0</td>\n",
              "      <td>0.0</td>\n",
              "    </tr>\n",
              "    <tr>\n",
              "      <th>1</th>\n",
              "      <td>0.0</td>\n",
              "      <td>0.0</td>\n",
              "    </tr>\n",
              "    <tr>\n",
              "      <th>2</th>\n",
              "      <td>0.0</td>\n",
              "      <td>1.0</td>\n",
              "    </tr>\n",
              "    <tr>\n",
              "      <th>3</th>\n",
              "      <td>0.0</td>\n",
              "      <td>0.0</td>\n",
              "    </tr>\n",
              "    <tr>\n",
              "      <th>4</th>\n",
              "      <td>0.0</td>\n",
              "      <td>0.0</td>\n",
              "    </tr>\n",
              "    <tr>\n",
              "      <th>...</th>\n",
              "      <td>...</td>\n",
              "      <td>...</td>\n",
              "    </tr>\n",
              "    <tr>\n",
              "      <th>6554</th>\n",
              "      <td>0.0</td>\n",
              "      <td>0.0</td>\n",
              "    </tr>\n",
              "    <tr>\n",
              "      <th>6555</th>\n",
              "      <td>0.0</td>\n",
              "      <td>0.0</td>\n",
              "    </tr>\n",
              "    <tr>\n",
              "      <th>6556</th>\n",
              "      <td>0.0</td>\n",
              "      <td>0.0</td>\n",
              "    </tr>\n",
              "    <tr>\n",
              "      <th>6557</th>\n",
              "      <td>0.0</td>\n",
              "      <td>0.0</td>\n",
              "    </tr>\n",
              "    <tr>\n",
              "      <th>6558</th>\n",
              "      <td>0.0</td>\n",
              "      <td>0.0</td>\n",
              "    </tr>\n",
              "  </tbody>\n",
              "</table>\n",
              "<p>6559 rows × 2 columns</p>\n",
              "</div>"
            ],
            "text/plain": [
              "      Actual  Predict\n",
              "0        0.0      0.0\n",
              "1        0.0      0.0\n",
              "2        0.0      1.0\n",
              "3        0.0      0.0\n",
              "4        0.0      0.0\n",
              "...      ...      ...\n",
              "6554     0.0      0.0\n",
              "6555     0.0      0.0\n",
              "6556     0.0      0.0\n",
              "6557     0.0      0.0\n",
              "6558     0.0      0.0\n",
              "\n",
              "[6559 rows x 2 columns]"
            ]
          },
          "metadata": {
            "tags": []
          },
          "execution_count": 61
        }
      ]
    },
    {
      "cell_type": "markdown",
      "metadata": {
        "id": "iJiaP-pnJDoh"
      },
      "source": [
        "**Export Data**\n",
        "> Pada tahap ini data hasil klasifikasi akan diexport menjadi csv melalui google drive"
      ]
    },
    {
      "cell_type": "code",
      "metadata": {
        "id": "gNvbtzx3JDom"
      },
      "source": [
        "df2.to_csv(\"drive/My Drive/TubesMalin/hasil_klasifikasi_saljuKNN.csv\")"
      ],
      "execution_count": null,
      "outputs": []
    },
    {
      "cell_type": "markdown",
      "metadata": {
        "id": "JFSQjfq9GAEr"
      },
      "source": [
        "## Ekperimen 3"
      ]
    },
    {
      "cell_type": "markdown",
      "metadata": {
        "id": "V-ZYR5MeGAEs"
      },
      "source": [
        "**Random Forest**"
      ]
    },
    {
      "cell_type": "code",
      "metadata": {
        "id": "7Ors1nYoGAEs"
      },
      "source": [
        "#Library untuk Random Forest\n",
        "from sklearn.ensemble import RandomForestClassifier"
      ],
      "execution_count": null,
      "outputs": []
    },
    {
      "cell_type": "code",
      "metadata": {
        "colab": {
          "base_uri": "https://localhost:8080/"
        },
        "id": "1jAO6hdaT1TQ",
        "outputId": "9b167eac-a1ba-4b94-d141-06110f113b6a"
      },
      "source": [
        "#memanggil fungsi RandomForestClassifier dengan jumlah tree/n = 1000\n",
        "RF = RandomForestClassifier(n_estimators=1000)\n",
        "RF.fit(x_train, y_train)\n",
        "y_pred3 = RF.predict(x_test)\n",
        "y_pred3"
      ],
      "execution_count": null,
      "outputs": [
        {
          "output_type": "execute_result",
          "data": {
            "text/plain": [
              "array([0., 0., 0., ..., 0., 0., 0.])"
            ]
          },
          "metadata": {
            "tags": []
          },
          "execution_count": 63
        }
      ]
    },
    {
      "cell_type": "code",
      "metadata": {
        "colab": {
          "base_uri": "https://localhost:8080/"
        },
        "id": "tq_hMQ-lW2Dv",
        "outputId": "386ae574-6be7-4be5-8a16-ba1b7ccbd7d8"
      },
      "source": [
        "#menghitung akurasi dari nilai actual/y_test dengan nilai prediksi/y_pred\n",
        "print(\"Hasil akurasi Random Forest : \", accuracy_score(y_test, y_pred3)*100, \"%\")"
      ],
      "execution_count": null,
      "outputs": [
        {
          "output_type": "stream",
          "text": [
            "Hasil akurasi Random Forest :  83.96096966000914 %\n"
          ],
          "name": "stdout"
        }
      ]
    },
    {
      "cell_type": "code",
      "metadata": {
        "colab": {
          "base_uri": "https://localhost:8080/"
        },
        "id": "gmINEMUxW-MQ",
        "outputId": "8e99ba67-fac9-40cc-bba4-c480483a66bb"
      },
      "source": [
        "#menampilkan confusion matrix dari hasil klasifikasi\n",
        "print(\"Confusion Matrix\")\n",
        "print(confusion_matrix(y_test, y_pred3))"
      ],
      "execution_count": null,
      "outputs": [
        {
          "output_type": "stream",
          "text": [
            "Confusion Matrix\n",
            "[[5099  343]\n",
            " [ 709  408]]\n"
          ],
          "name": "stdout"
        }
      ]
    },
    {
      "cell_type": "code",
      "metadata": {
        "colab": {
          "base_uri": "https://localhost:8080/"
        },
        "id": "gTiNnkwkXQPt",
        "outputId": "c820e308-a6f4-4a3d-c00d-2359157aec2f"
      },
      "source": [
        "#menampilkan classification report\n",
        "print(\"Classification report\")\n",
        "print(classification_report(y_test,y_pred3))"
      ],
      "execution_count": null,
      "outputs": [
        {
          "output_type": "stream",
          "text": [
            "Classification report\n",
            "              precision    recall  f1-score   support\n",
            "\n",
            "         0.0       0.88      0.94      0.91      5442\n",
            "         1.0       0.54      0.37      0.44      1117\n",
            "\n",
            "    accuracy                           0.84      6559\n",
            "   macro avg       0.71      0.65      0.67      6559\n",
            "weighted avg       0.82      0.84      0.83      6559\n",
            "\n"
          ],
          "name": "stdout"
        }
      ]
    },
    {
      "cell_type": "code",
      "metadata": {
        "colab": {
          "base_uri": "https://localhost:8080/",
          "height": 419
        },
        "id": "Wgb8Sy75XTG_",
        "outputId": "fdd4fa55-40c3-4a85-87c9-f5cff1a4a66b"
      },
      "source": [
        "#membuat dataframe untuk membandingkan nilai actual dan nilai prediksi \n",
        "df3 = pd.DataFrame({'Actual': y_test, 'Predict': y_pred3})\n",
        "df3"
      ],
      "execution_count": null,
      "outputs": [
        {
          "output_type": "execute_result",
          "data": {
            "text/html": [
              "<div>\n",
              "<style scoped>\n",
              "    .dataframe tbody tr th:only-of-type {\n",
              "        vertical-align: middle;\n",
              "    }\n",
              "\n",
              "    .dataframe tbody tr th {\n",
              "        vertical-align: top;\n",
              "    }\n",
              "\n",
              "    .dataframe thead th {\n",
              "        text-align: right;\n",
              "    }\n",
              "</style>\n",
              "<table border=\"1\" class=\"dataframe\">\n",
              "  <thead>\n",
              "    <tr style=\"text-align: right;\">\n",
              "      <th></th>\n",
              "      <th>Actual</th>\n",
              "      <th>Predict</th>\n",
              "    </tr>\n",
              "  </thead>\n",
              "  <tbody>\n",
              "    <tr>\n",
              "      <th>0</th>\n",
              "      <td>0.0</td>\n",
              "      <td>0.0</td>\n",
              "    </tr>\n",
              "    <tr>\n",
              "      <th>1</th>\n",
              "      <td>0.0</td>\n",
              "      <td>0.0</td>\n",
              "    </tr>\n",
              "    <tr>\n",
              "      <th>2</th>\n",
              "      <td>0.0</td>\n",
              "      <td>0.0</td>\n",
              "    </tr>\n",
              "    <tr>\n",
              "      <th>3</th>\n",
              "      <td>0.0</td>\n",
              "      <td>0.0</td>\n",
              "    </tr>\n",
              "    <tr>\n",
              "      <th>4</th>\n",
              "      <td>0.0</td>\n",
              "      <td>0.0</td>\n",
              "    </tr>\n",
              "    <tr>\n",
              "      <th>...</th>\n",
              "      <td>...</td>\n",
              "      <td>...</td>\n",
              "    </tr>\n",
              "    <tr>\n",
              "      <th>6554</th>\n",
              "      <td>0.0</td>\n",
              "      <td>0.0</td>\n",
              "    </tr>\n",
              "    <tr>\n",
              "      <th>6555</th>\n",
              "      <td>0.0</td>\n",
              "      <td>0.0</td>\n",
              "    </tr>\n",
              "    <tr>\n",
              "      <th>6556</th>\n",
              "      <td>0.0</td>\n",
              "      <td>0.0</td>\n",
              "    </tr>\n",
              "    <tr>\n",
              "      <th>6557</th>\n",
              "      <td>0.0</td>\n",
              "      <td>0.0</td>\n",
              "    </tr>\n",
              "    <tr>\n",
              "      <th>6558</th>\n",
              "      <td>0.0</td>\n",
              "      <td>0.0</td>\n",
              "    </tr>\n",
              "  </tbody>\n",
              "</table>\n",
              "<p>6559 rows × 2 columns</p>\n",
              "</div>"
            ],
            "text/plain": [
              "      Actual  Predict\n",
              "0        0.0      0.0\n",
              "1        0.0      0.0\n",
              "2        0.0      0.0\n",
              "3        0.0      0.0\n",
              "4        0.0      0.0\n",
              "...      ...      ...\n",
              "6554     0.0      0.0\n",
              "6555     0.0      0.0\n",
              "6556     0.0      0.0\n",
              "6557     0.0      0.0\n",
              "6558     0.0      0.0\n",
              "\n",
              "[6559 rows x 2 columns]"
            ]
          },
          "metadata": {
            "tags": []
          },
          "execution_count": 71
        }
      ]
    },
    {
      "cell_type": "markdown",
      "metadata": {
        "id": "OJfY8-7GJKzP"
      },
      "source": [
        "**Export Data**\n",
        "> Pada tahap ini data hasil klasifikasi akan diexport menjadi csv melalui google drive"
      ]
    },
    {
      "cell_type": "code",
      "metadata": {
        "id": "iQRUKH5WJKzQ"
      },
      "source": [
        "df3.to_csv(\"drive/My Drive/TubesMalin/hasil_klasifikasi_saljuRF.csv\")"
      ],
      "execution_count": null,
      "outputs": []
    },
    {
      "cell_type": "markdown",
      "metadata": {
        "id": "8mQzF8-tGKKO"
      },
      "source": [
        "#Kesimpulan"
      ]
    },
    {
      "cell_type": "markdown",
      "metadata": {
        "id": "W08GjwqhGM9f"
      },
      "source": [
        "Pengklasifikasian awal nya diuji menggunakan metode naive bayers. Diperoleh tingkat akurasi data sebesar **0.7793871016923312** atau **78%** pembulatan keatas\n",
        "\n",
        "Nilai akurasi tersebut berbeda dengan eksperimen yang telah dilakukan diantaranya:\n",
        "\n",
        "*   Menggunakan metode SVM : **0.8524165269095899** atau **85%**\n",
        "*   Menggunakan metode KNN : **0.8283274889464858** atau **82%**\n",
        "*   Menggunakan metode Random Forest : **0.8396096966000914** atau **83%**\n",
        "\n",
        "\n",
        "Metode klasifikasi yang menghasilkan akurasi tinggi terhadap dataset salju adalah metode SVM dengan kernel rbf."
      ]
    }
  ]
}
